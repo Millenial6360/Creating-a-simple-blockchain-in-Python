{
 "cells": [
  {
   "cell_type": "code",
   "execution_count": 1,
   "id": "40ceffe3",
   "metadata": {},
   "outputs": [],
   "source": [
    "from hashlib import sha256\n",
    "import json\n",
    "import time"
   ]
  },
  {
   "cell_type": "code",
   "execution_count": 4,
   "id": "df399842",
   "metadata": {},
   "outputs": [],
   "source": [
    "class Chain:\n",
    "    def __init__(self):\n",
    "        self.blockchain = []\n",
    "        self.pending = []\n",
    "        self.add_block(prevhash=\"Genesis\", proof=123)\n",
    "    def add_transaction(self, sender, recipient, amount):\n",
    "        transaction = {\n",
    "            \"sender\": sender,\n",
    "            \"recipient\" : recipient,\n",
    "            \"amount\": amount\n",
    "        }\n",
    "        self.pending.append(transaction)\n",
    "    def compute_hash(self, block):\n",
    "        json_block = json.dumps(block, sort_keys=True).encode()\n",
    "        currhash = sha256(json_block).hexdigest()\n",
    "        return currhash\n",
    "    def add_block(self, proof, prevhash=None):\n",
    "        block = {\n",
    "            \"index\": len(self.blockchain),\n",
    "            \"timestamp\": time.time(),\n",
    "            \"transaction\":self.pending,\n",
    "            \"proof\": proof,\n",
    "            \"prevhash\":prevhash or self.compute_hash(self.blockchain[-1])            \n",
    "        }\n",
    "        self.pending= []\n",
    "        self.blockchain.append(block)\n",
    "        "
   ]
  },
  {
   "cell_type": "code",
   "execution_count": 5,
   "id": "b6b51790",
   "metadata": {},
   "outputs": [
    {
     "name": "stdout",
     "output_type": "stream",
     "text": [
      "[{'index': 0, 'timestamp': 1672681963.719576, 'transaction': [], 'proof': 123, 'prevhash': 'Genesis'}, {'index': 1, 'timestamp': 1672681963.720963, 'transaction': [{'sender': 'Vitalik', 'recipient': 'Satoshi', 'amount': 100}, {'sender': 'Satoshi', 'recipient': 'Alice', 'amount': 10}, {'sender': 'Alice', 'recipient': 'Charlie', 'amount': 34}], 'proof': 12345, 'prevhash': 'a32c2f1299c97ad38432ac48ea5ffa8970b54204b58053a1cfeb413d92212a5c'}, {'index': 2, 'timestamp': 1672681963.720963, 'transaction': [{'sender': 'Bob', 'recipient': 'Eve', 'amount': 23}, {'sender': 'Dennis', 'recipient': 'Brian', 'amount': 3}, {'sender': 'Ken', 'recipient': 'Doug', 'amount': 88}], 'proof': 6789, 'prevhash': 'f27b1d6366afcd6ed6f850c596cbe0125e4e69b8dc5003a3e7e0d10684a49a6b'}]\n"
     ]
    }
   ],
   "source": [
    "chain = Chain()\n",
    "\n",
    "t1 = chain.add_transaction(\"Vitalik\", \"Satoshi\", 100)\n",
    "t2 = chain.add_transaction(\"Satoshi\", \"Alice\", 10)\n",
    "t3 = chain.add_transaction(\"Alice\", \"Charlie\", 34)\n",
    "\n",
    "chain.add_block(12345)\n",
    "\n",
    "t4 = chain.add_transaction(\"Bob\", \"Eve\", 23)\n",
    "t5 = chain.add_transaction(\"Dennis\", \"Brian\", 3)\n",
    "t6 = chain.add_transaction(\"Ken\", \"Doug\", 88)\n",
    "\n",
    "chain.add_block(6789)\n",
    "\n",
    "print(chain.blockchain)"
   ]
  },
  {
   "cell_type": "code",
   "execution_count": null,
   "id": "d7be3e16",
   "metadata": {},
   "outputs": [],
   "source": []
  }
 ],
 "metadata": {
  "kernelspec": {
   "display_name": "Python 3 (ipykernel)",
   "language": "python",
   "name": "python3"
  },
  "language_info": {
   "codemirror_mode": {
    "name": "ipython",
    "version": 3
   },
   "file_extension": ".py",
   "mimetype": "text/x-python",
   "name": "python",
   "nbconvert_exporter": "python",
   "pygments_lexer": "ipython3",
   "version": "3.10.6"
  }
 },
 "nbformat": 4,
 "nbformat_minor": 5
}
